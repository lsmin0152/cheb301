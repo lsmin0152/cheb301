{
 "cells": [
  {
   "attachments": {},
   "cell_type": "markdown",
   "metadata": {
    "colab": {
     "base_uri": "https://localhost:8080/"
    },
    "id": "VYNajV87umBz",
    "outputId": "9f7ca991-fedd-4168-cf80-dfddb56672e7"
   },
   "source": [
    "[Link to colab](https://colab.research.google.com/github/lsmin0152/cheb301/blob/main/notebooks/CHEB301_F25_06_pyrosetta_basics.ipynb)\n",
    "\n",
    "# Pyrosetta Basics"
   ]
  },
  {
   "cell_type": "code",
   "execution_count": null,
   "metadata": {},
   "outputs": [],
   "source": [
    "# Install pyrosetta. This will take few minutes\n",
    "# You need to log in with your Google account.\n",
    "# You need to allow access to your google drive, to run this script.\n",
    "\n",
    "!pip install pyrosettacolabsetup\n",
    "import pyrosettacolabsetup; pyrosettacolabsetup.install_pyrosetta()\n",
    "import pyrosetta; pyrosetta.init()\n",
    "from pyrosetta import *\n",
    "from pyrosetta.teaching import *\n",
    "init()"
   ]
  },
  {
   "cell_type": "code",
   "execution_count": null,
   "metadata": {
    "colab": {
     "base_uri": "https://localhost:8080/"
    },
    "id": "Dth6OzLOupMS",
    "outputId": "63ceb9f2-a70c-44a2-a660-aea438dcd292"
   },
   "outputs": [],
   "source": [
    "pose = pyrosetta.toolbox.pose_from_rcsb(\"1QYS\")"
   ]
  },
  {
   "cell_type": "code",
   "execution_count": null,
   "metadata": {
    "colab": {
     "base_uri": "https://localhost:8080/",
     "height": 35
    },
    "id": "RdzJDT0RvymF",
    "outputId": "6dd0ae9b-3ebe-4ffd-c698-192782565b94"
   },
   "outputs": [],
   "source": [
    "pose.sequence()"
   ]
  },
  {
   "cell_type": "code",
   "execution_count": null,
   "metadata": {
    "colab": {
     "base_uri": "https://localhost:8080/"
    },
    "id": "wDQQr724w1Zw",
    "outputId": "4f0d6e04-34da-4121-ca8d-6dd778857438"
   },
   "outputs": [],
   "source": [
    "res_index = 10\n",
    "\n",
    "print(\"torsion angles of an amino acids:\", pose.phi(res_index), pose.psi(res_index))\n",
    "res = pose.residue(res_index)\n",
    "\n",
    "print(\"Name of residue #%d: \"%(res_index),res.name())\n",
    "\n",
    "# Get atom coordinates for each atom in the residue\n",
    "for i in range(1, res.natoms() + 1):  # Atom indexing is 1-based\n",
    "    atom_name = res.atom_name(i).strip()\n",
    "    xyz = res.xyz(i)  # This returns a xyz coordinate\n",
    "    print(\"Atom name: \", atom_name, \" coordinate: \", xyz)\n"
   ]
  },
  {
   "cell_type": "markdown",
   "metadata": {
    "id": "X9yQ2LTM2yKS"
   },
   "source": [
    "# Calculating pair-wise energy"
   ]
  },
  {
   "cell_type": "code",
   "execution_count": null,
   "metadata": {
    "colab": {
     "base_uri": "https://localhost:8080/"
    },
    "id": "7CDSkcBrw8TQ",
    "outputId": "9609ad15-3677-455b-95b1-828da16e0397"
   },
   "outputs": [],
   "source": [
    "# Set a score function\n",
    "sfxn = get_score_function(True)\n"
   ]
  },
  {
   "cell_type": "code",
   "execution_count": null,
   "metadata": {
    "colab": {
     "base_uri": "https://localhost:8080/"
    },
    "id": "bUQ6j74Z2w-m",
    "outputId": "c352ca9c-c7b6-42e3-a63d-983de516c668"
   },
   "outputs": [],
   "source": [
    "\n",
    "res19 = pose.residue(19)\n",
    "res33 = pose.residue(33)\n",
    "\n",
    "res19_atom_OH = res19.atom_index(\"OH\")\n",
    "res33_atom_OE1 = res33.atom_index(\"OE1\")\n",
    "pyrosetta.etable_atom_pair_energies(res19, res19_atom_OH, res33, res33_atom_OE1, sfxn)\n",
    "\n",
    "# etable provides the attractive, repulsive, solvation, and electrostatic components\n"
   ]
  },
  {
   "cell_type": "code",
   "execution_count": null,
   "metadata": {
    "colab": {
     "base_uri": "https://localhost:8080/"
    },
    "id": "CQyzbF3y23oM",
    "outputId": "e22517a8-0149-4ece-808f-890f87d7aa68"
   },
   "outputs": [],
   "source": [
    "## Calculating energy between two residues\n",
    "\n",
    "emap = EMapVector()\n",
    "sfxn.eval_ci_2b(res19, res33, pose, emap)\n",
    "print(emap[fa_atr]) # attraction\n",
    "print(emap[fa_rep]) # repulsion\n",
    "print(emap[fa_sol]) # solvation\n",
    "print(emap[hbond_sc]) # hydrogen bonding side chains\n"
   ]
  },
  {
   "cell_type": "code",
   "execution_count": null,
   "metadata": {
    "id": "7sMdg_vF5Y2V"
   },
   "outputs": [],
   "source": []
  }
 ],
 "metadata": {
  "colab": {
   "provenance": []
  },
  "kernelspec": {
   "display_name": "Python 3 (ipykernel)",
   "language": "python",
   "name": "python3"
  },
  "language_info": {
   "codemirror_mode": {
    "name": "ipython",
    "version": 3
   },
   "file_extension": ".py",
   "mimetype": "text/x-python",
   "name": "python",
   "nbconvert_exporter": "python",
   "pygments_lexer": "ipython3",
   "version": "3.11.8"
  }
 },
 "nbformat": 4,
 "nbformat_minor": 4
}
