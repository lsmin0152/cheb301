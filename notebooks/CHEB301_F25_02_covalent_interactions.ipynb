{
 "cells": [
  {
   "cell_type": "markdown",
   "id": "478a0bf6-374a-4d66-b0c5-a6473d8e6fb4",
   "metadata": {},
   "source": [
    "[Link to colab](https://colab.research.google.com/github/lsmin0152/cheb301/blob/main/notebooks/CHEB301_F25_02_covalent_interactions.ipynb#scrollTo=e87e6158-79a6-4341-8714-aff11993caad)\n",
    "# Calculating covalent interaction\n",
    "\n",
    "Calculating energy from covalent bonds is important to evaluate energy of overall system. \n",
    "There could be many different ways to represent the covalent bonds as a mathematical formula. \n",
    "In this class, we will assume that harmonic bond potential approximates the covalent bonds. \n"
   ]
  },
  {
   "cell_type": "markdown",
   "id": "76815d76-80dc-4376-9745-c05f2d4eb1c0",
   "metadata": {},
   "source": [
    "## 1. Harmonic bond potential\n",
    "\n",
    "A harmonic bond potential is a simplified, parabolic model for interatomic bonds that uses Hooke's Law to describe the bond as a spring oscillating around an equilibrium distance.\n"
   ]
  },
  {
   "cell_type": "code",
   "execution_count": null,
   "id": "e583e010-d250-4342-b19d-06da2a60f3c2",
   "metadata": {},
   "outputs": [],
   "source": [
    "import numpy as np\n",
    "\n",
    "radius = 0.5\n",
    "\n",
    "# Create an evenly spaced array of points between 0.5 and 1.5\n",
    "r_list = np.linspace(0.5,2.5,30) \n",
    "\n",
    "print(r_list)\n"
   ]
  },
  {
   "cell_type": "code",
   "execution_count": null,
   "id": "e87e6158-79a6-4341-8714-aff11993caad",
   "metadata": {},
   "outputs": [],
   "source": [
    "# Define a function\n",
    "\n",
    "def harmonic_bond(r,r_0,k):\n",
    "    E = (1/2) * k * (r-r_0)**2\n",
    "    return E\n"
   ]
  },
  {
   "cell_type": "code",
   "execution_count": null,
   "id": "d56bb59a-8b82-4706-a44f-e7669a79c7af",
   "metadata": {},
   "outputs": [],
   "source": [
    "# Define parameters for the harmonic bond potential\n",
    "\n",
    "k_bond = 10 # spring constant\n",
    "r_0 = 1.5 # covalent bond length\n",
    "\n",
    "potential_E_bond = []\n",
    "\n",
    "for r in r_list:\n",
    "    E = harmonic_bond(r,r_0,k_bond)\n",
    "    potential_E_bond.append(E)\n",
    "\n",
    "potential_E_bond = np.array(potential_E_bond)\n",
    "\n",
    "print(potential_E_bond)"
   ]
  },
  {
   "cell_type": "code",
   "execution_count": null,
   "id": "9f5a095f-a59d-4799-b0e6-3736a86ce323",
   "metadata": {},
   "outputs": [],
   "source": [
    "# Plotting\n",
    "\n",
    "import matplotlib.pyplot as plt\n",
    "\n",
    "plt.plot(r_list,potential_E_bond,'-o',color='black')\n",
    "plt.ylabel('harmonic bond potential energy', fontsize=15)\n",
    "plt.xlabel('spatial distance (r)',fontsize=15)\n"
   ]
  },
  {
   "cell_type": "markdown",
   "id": "1ca47f60-52fe-4b4a-afe0-3478b820db34",
   "metadata": {},
   "source": [
    "## 2. Harmonic angle potential\n",
    "\n",
    "A harmonic angle potential is a parabolic potential in molecular simulations that describes the energetic cost of a deviation from an equilibrium bond angle, similar to a spring. It is defined by the formula E<sub>a</sub> = 1/2 * k<sub>a</sub> * (θ - θ<sub>0</sub>)² where k<sub>a</sub> is the force constant and θ<sub>0</sub> is the preferred angle. This potential is commonly used in force fields to model bonded interactions, such as those in organic molecules and proteins, but can be problematic for linear groups (like alkynes) that naturally approach 180° angles, potentially causing numerical instability. \n"
   ]
  },
  {
   "cell_type": "code",
   "execution_count": null,
   "id": "d03df5f8-20e7-46f4-ad11-539de4d90331",
   "metadata": {},
   "outputs": [],
   "source": [
    "# Create an evenly spaced array of angles between -pi and pi\n",
    "\n",
    "theta_list = np.linspace(0,360,50) \n",
    "print(theta_list)\n",
    "\n",
    "theta_list = np.deg2rad(theta_list) # convert degree to radian\n",
    "print(theta_list)\n"
   ]
  },
  {
   "cell_type": "code",
   "execution_count": null,
   "id": "be09a17b-e4c8-424e-afec-0f4cc81e6d8c",
   "metadata": {},
   "outputs": [],
   "source": [
    "# Define a function\n",
    "\n",
    "def harmonic_angle(theta,theta_0,k_ang):\n",
    "    E = (1/2) * k_ang * (theta-theta_0)**2\n",
    "    return E\n"
   ]
  },
  {
   "cell_type": "code",
   "execution_count": null,
   "id": "7f395dd2-c832-4464-8784-dc586f21260c",
   "metadata": {},
   "outputs": [],
   "source": [
    "# Define parameters for the harmonic angle potential\n",
    "\n",
    "k_ang = 10 # spring constant\n",
    "theta_0 = np.deg2rad(180) # covalent bond angle in radian\n",
    "\n",
    "potential_E_angle = []\n",
    "\n",
    "for theta in theta_list:\n",
    "    E = harmonic_angle(theta,theta_0,k_ang)\n",
    "    potential_E_angle.append(E)\n",
    "\n",
    "potential_E_angle = np.array(potential_E_angle)\n",
    "\n",
    "print(potential_E_angle)"
   ]
  },
  {
   "cell_type": "code",
   "execution_count": null,
   "id": "814c8e97-1ba7-456c-8809-06796f1d50b5",
   "metadata": {},
   "outputs": [],
   "source": [
    "# Plotting\n",
    "\n",
    "plt.plot(theta_list,potential_E_angle,'-o',color='black')\n",
    "plt.ylabel('harmonic angle potential energy', fontsize=15)\n",
    "plt.xlabel('bond angle (theta)',fontsize=15)\n"
   ]
  },
  {
   "cell_type": "markdown",
   "id": "a7d58bd4-bc5e-475f-b20c-417f5ecacba2",
   "metadata": {},
   "source": [
    "## 3. Practice: Calculating covalent bond energy of ethane\n",
    "\n",
    "- Calculate all possible harmonic bond energy and harmonic angle energy of ethane and sum them.\n",
    "- Coordinates and harmonic potential parameters are given in the lecture slide.\n",
    "- Do not use ChatGPT. Goal of this is for practicing your programming skills, not for getting an answer. \n"
   ]
  },
  {
   "cell_type": "code",
   "execution_count": null,
   "id": "5748ba9e-7eb9-497f-a7c3-ab34331dbdc1",
   "metadata": {},
   "outputs": [],
   "source": []
  }
 ],
 "metadata": {
  "kernelspec": {
   "display_name": "Python 3 (ipykernel)",
   "language": "python",
   "name": "python3"
  },
  "language_info": {
   "codemirror_mode": {
    "name": "ipython",
    "version": 3
   },
   "file_extension": ".py",
   "mimetype": "text/x-python",
   "name": "python",
   "nbconvert_exporter": "python",
   "pygments_lexer": "ipython3",
   "version": "3.11.8"
  }
 },
 "nbformat": 4,
 "nbformat_minor": 5
}
