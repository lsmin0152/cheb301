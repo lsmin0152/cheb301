{
 "cells": [
  {
   "cell_type": "markdown",
   "metadata": {
    "id": "zUAwR7iqZ5v9"
   },
   "source": [
    "[Link to colab](https://colab.research.google.com/github/lsmin0152/cheb301/blob/main/notebooks/CHEB301_F25_01_intro_to_colab.ipynb)\n",
    "# Introduction to Google Colab\n",
    "\n",
    "The following notebook is only expected to work *if* you are using it within a Colab environment. With an appropriate python environment, it may also run."
   ]
  },
  {
   "cell_type": "markdown",
   "metadata": {
    "id": "hYMmLBMCaYiM"
   },
   "source": [
    "# Markdown and text\n",
    "\n",
    "You can organize and provide comments/narrative within notebooks by using the text blocks. These text blocks accept \"markdown\" language for formatting.\n",
    "\n",
    "You can find a brief summary of some syntax here:\n",
    "\n",
    "* [Jupyter Documentation](https://jupyter-notebook.readthedocs.io/en/stable/examples/Notebook/Working%20With%20Markdown%20Cells.html)\n",
    "* [IBM Cheatsheet](https://www.ibm.com/docs/en/watson-studio-local/1.2.3?topic=notebooks-markdown-jupyter-cheatsheet)\n",
    "\n",
    "Colab actually provides GUI to facilitate this (*pretty convenient*!)"
   ]
  },
  {
   "cell_type": "markdown",
   "metadata": {
    "id": "lMlZTCNPgNwn"
   },
   "source": [
    "# Jupyter notebooks\n",
    "\n",
    "\n",
    "Jupyter notebooks are web-based interactive computing platforms that allow you to create and share documents that contain live code, equations, visualizations and narrative text. They are commonly used for data analysis, scientific computing, and machine learning. Here are some steps to get started with\n",
    "\n",
    "Jupyter notebooks:\n",
    "\n",
    "- Running code: In a Jupyter notebook, you can write and run code in cells. To run a cell, simply click on it and press `Shift + Enter` or click the \"Run\" button in the toolbar.\n",
    "\n",
    "- Markdown cells: In addition to code cells, you can also create Markdown cells to write descriptive text. You can format the text using Markdown syntax to add headings, lists, links, etc..\n",
    "\n",
    "- Saving and exporting: To save your notebook, click on the \"Save\" button in the toolbar. Jupyter notebooks have the extension `.ipynb` and can be exported to other formats like HTML, PDF, etc.\n",
    "\n",
    "- Keyboard Shortcuts: Jupyter notebooks have several keyboard shortcuts that can make your work faster and more efficient. For example, you can press `Esc` to enter command mode and `Enter` to enter edit mode. The most frequently used Keyboard Shortcuts are: `b` for creating a cell `b`elow the current cell, `a` for creating a cell `a`bove the current cell, `dd` for deleting the current cell."
   ]
  },
  {
   "cell_type": "markdown",
   "metadata": {
    "id": "9L7z_03XgXg3"
   },
   "source": [
    "## Colab uses Jupyter notebooks\n",
    "\n",
    "Colab allows you to use Jupyter notebooks with others without having to download, install, or run anything.\n"
   ]
  },
  {
   "cell_type": "markdown",
   "metadata": {
    "id": "QIiqKRnAapaa"
   },
   "source": [
    "# Modules and stuff\n",
    "\n",
    "The nice thing about Colab is it just pretty much knows about the existence of things that we might like to use if you want to import them. This convenience may come at the cost of time, as Colab can be slow or require re-running stuff to get your environment set up. However, once that's done, things function pretty seamlessly. Below we show the imports of some common modules in the course."
   ]
  },
  {
   "cell_type": "code",
   "execution_count": null,
   "metadata": {
    "colab": {
     "base_uri": "https://localhost:8080/"
    },
    "executionInfo": {
     "elapsed": 10,
     "status": "ok",
     "timestamp": 1756816561095,
     "user": {
      "displayName": "Sangmin Lee",
      "userId": "01131787595448850443"
     },
     "user_tz": -540
    },
    "id": "rEDXLInJZuK6",
    "outputId": "08041497-ea1b-4281-ab72-8b8dada0152e"
   },
   "outputs": [],
   "source": [
    "import numpy as np\n",
    "import pandas as pd\n",
    "from sklearn.linear_model import LinearRegression\n",
    "import math\n",
    "\n",
    "print(np.__version__)\n",
    "print(pd.__version__)\n"
   ]
  },
  {
   "cell_type": "code",
   "execution_count": null,
   "metadata": {
    "colab": {
     "base_uri": "https://localhost:8080/",
     "height": 71
    },
    "executionInfo": {
     "elapsed": 17,
     "status": "ok",
     "timestamp": 1756816515745,
     "user": {
      "displayName": "Sangmin Lee",
      "userId": "01131787595448850443"
     },
     "user_tz": -540
    },
    "id": "Od0DGUjdaxY1",
    "outputId": "48dd6692-e673-4654-d3af-a2de0c7a85b9"
   },
   "outputs": [],
   "source": [
    "print(math.exp(3.0))\n",
    "print(np.exp(3.0))"
   ]
  },
  {
   "cell_type": "markdown",
   "metadata": {
    "id": "xdDthS3Ca36K"
   },
   "source": [
    "Notice in the above, we use `np.` or `math.` before the `exp`; this is because those functions have been reserved to live in the *namespaces* of those modules. Using this kind of referencing may seem verbose, but the benefit is that you avoid unintentionally loading in functions that may have the same name from different modules. It is also very explicit. You can also use something like `from math import *` to just wholesale allow all functions from `math` to be available without needing to specifying module. See below. The first cell should give an error. The second cell should work."
   ]
  },
  {
   "cell_type": "code",
   "execution_count": null,
   "metadata": {
    "colab": {
     "base_uri": "https://localhost:8080/",
     "height": 144
    },
    "executionInfo": {
     "elapsed": 20,
     "status": "error",
     "timestamp": 1756816487670,
     "user": {
      "displayName": "Sangmin Lee",
      "userId": "01131787595448850443"
     },
     "user_tz": -540
    },
    "id": "PicmU_4sa1f1",
    "outputId": "29732739-ba37-4846-f891-df96b4b13795"
   },
   "outputs": [],
   "source": [
    "print(exp(3.0))"
   ]
  },
  {
   "cell_type": "code",
   "execution_count": null,
   "metadata": {
    "colab": {
     "base_uri": "https://localhost:8080/"
    },
    "executionInfo": {
     "elapsed": 8,
     "status": "ok",
     "timestamp": 1756816493774,
     "user": {
      "displayName": "Sangmin Lee",
      "userId": "01131787595448850443"
     },
     "user_tz": -540
    },
    "id": "gvfCyl3ibDPy",
    "outputId": "3a9cf57f-2c50-4be6-8181-508b3b5453b9"
   },
   "outputs": [],
   "source": [
    "from math import *\n",
    "print(exp(3.0))"
   ]
  },
  {
   "cell_type": "markdown",
   "metadata": {
    "id": "UOdn-smlfdki"
   },
   "source": [
    "# Stuff that is not native to Colab\n",
    "If there are modules that you would like to have that are not native to your Colab environment, you can install them using `pip` or similar commands. This is shown below for `rdkit`, which we will use in the course."
   ]
  },
  {
   "cell_type": "code",
   "execution_count": null,
   "metadata": {
    "colab": {
     "base_uri": "https://localhost:8080/"
    },
    "executionInfo": {
     "elapsed": 6,
     "status": "ok",
     "timestamp": 1756817688637,
     "user": {
      "displayName": "Sangmin Lee",
      "userId": "01131787595448850443"
     },
     "user_tz": -540
    },
    "id": "F1QG3UpkbEvd",
    "outputId": "a8d15e3d-d657-42a3-a518-e33ec5c86f55"
   },
   "outputs": [],
   "source": [
    "# first we will show that the module does not exist\n",
    "try:\n",
    "  import rdkit\n",
    "except ModuleNotFoundError:\n",
    "  print(\"The module does not exist.\")"
   ]
  },
  {
   "cell_type": "code",
   "execution_count": null,
   "metadata": {
    "colab": {
     "base_uri": "https://localhost:8080/"
    },
    "executionInfo": {
     "elapsed": 11485,
     "status": "ok",
     "timestamp": 1756817726503,
     "user": {
      "displayName": "Sangmin Lee",
      "userId": "01131787595448850443"
     },
     "user_tz": -540
    },
    "id": "In2oO0SYffVH",
    "outputId": "e56fe13c-5126-4e10-d814-ec82249973f6"
   },
   "outputs": [],
   "source": [
    "!pip install rdkit pypi"
   ]
  },
  {
   "cell_type": "code",
   "execution_count": null,
   "metadata": {
    "colab": {
     "base_uri": "https://localhost:8080/"
    },
    "executionInfo": {
     "elapsed": 181,
     "status": "ok",
     "timestamp": 1756817737706,
     "user": {
      "displayName": "Sangmin Lee",
      "userId": "01131787595448850443"
     },
     "user_tz": -540
    },
    "id": "vfaD0WeBfqsA",
    "outputId": "562ce895-ca9c-4037-8a7a-4e361c87513b"
   },
   "outputs": [],
   "source": [
    "import importlib.util\n",
    "import rdkit\n",
    "rdkit_spec = importlib.util.find_spec('rdkit')\n",
    "if rdkit_spec is not None:\n",
    "  print(\"The module exists!\")"
   ]
  },
  {
   "cell_type": "code",
   "execution_count": null,
   "metadata": {
    "id": "BgM9fCFFf0ZP"
   },
   "outputs": [],
   "source": []
  }
 ],
 "metadata": {
  "colab": {
   "authorship_tag": "ABX9TyPBKwTEfjiuqnHJA9n14cvC",
   "provenance": []
  },
  "kernelspec": {
   "display_name": "Python 3 (ipykernel)",
   "language": "python",
   "name": "python3"
  },
  "language_info": {
   "codemirror_mode": {
    "name": "ipython",
    "version": 3
   },
   "file_extension": ".py",
   "mimetype": "text/x-python",
   "name": "python",
   "nbconvert_exporter": "python",
   "pygments_lexer": "ipython3",
   "version": "3.11.8"
  }
 },
 "nbformat": 4,
 "nbformat_minor": 4
}
