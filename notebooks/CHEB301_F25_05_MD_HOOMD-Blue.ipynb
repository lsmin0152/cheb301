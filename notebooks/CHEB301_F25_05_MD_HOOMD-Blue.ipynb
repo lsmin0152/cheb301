{
 "cells": [
  {
   "cell_type": "markdown",
   "metadata": {
    "colab": {
     "base_uri": "https://localhost:8080/"
    },
    "collapsed": true,
    "id": "IbKjbZaCEfI2",
    "jupyter": {
     "outputs_hidden": true
    },
    "outputId": "4796372f-48f2-4626-f992-595449f74197"
   },
   "source": [
    "[Link to colab](https://colab.research.google.com/github/lsmin0152/cheb301/blob/main/notebooks/CHEB301_F25_05_MD_HOOMD-Blue.ipynb)\n",
    "# Running MD simulation via HOOMD-Blue\n",
    "\n",
    "We will learn how to run a MD simulation using HOOMD-Blue particle simulation package. \\\n",
    "Documentation: https://hoomd-blue.readthedocs.io/en/v5.4.0/ \\\n",
    "Github: https://github.com/glotzerlab/hoomd-blue\n",
    "\n",
    "HOOMD-blue is a Python package that runs simulations of particle systems on CPUs and GPUs. It performs hard particle Monte Carlo simulations of a variety of shape classes and molecular dynamics simulations of particles with a range of pair, bond, angle, and other potentials. Many features are targeted at the soft matter research community, though the code is general and capable of many types of particle simulations."
   ]
  },
  {
   "cell_type": "code",
   "execution_count": null,
   "metadata": {},
   "outputs": [],
   "source": [
    "# Install dependencies\n",
    "!apt-get update\n",
    "!apt install -y cmake git\n",
    "!apt-get install -y libeigen3-dev\n",
    "!pip install --upgrade pip\n",
    "!pip install eigen ninja numpy pybind11==2.12\n",
    "\n",
    "# Pull source code\n",
    "!rm -rf hoomd-blue\n",
    "!git clone --recursive https://github.com/glotzerlab/hoomd-blue.git hoomd-blue\n"
   ]
  },
  {
   "cell_type": "code",
   "execution_count": null,
   "metadata": {
    "colab": {
     "base_uri": "https://localhost:8080/"
    },
    "id": "wS_XYIP0FDV2",
    "outputId": "f5fd6a2e-ee8f-4591-8066-2819ba6c1576"
   },
   "outputs": [],
   "source": [
    "# Pull source code and build\n",
    "\n",
    "%cd ./hoomd-blue\n",
    "!cmake -B build \\\n",
    "-DBUILD_METAL=off \\\n",
    "-DBUILD_MPCD=off \\\n",
    "-DBUILD_TESTING=off \\\n",
    "-Dpybind11_DIR=/usr/local/lib/python3.12/dist-packages/pybind11/share/cmake/pybind11 \\\n",
    "-DEigen3_DIR=/usr/lib/cmake/eigen3 \\\n",
    "-S . -GNinja"
   ]
  },
  {
   "cell_type": "code",
   "execution_count": null,
   "metadata": {
    "colab": {
     "base_uri": "https://localhost:8080/"
    },
    "id": "zvZ54HISKANX",
    "outputId": "f50bf967-9b9f-4bbd-a9df-390fae8d9e7b"
   },
   "outputs": [],
   "source": [
    "# Compiling the source code\n",
    "\n",
    "%cd ./build\n",
    "!ninja -j 2"
   ]
  },
  {
   "cell_type": "markdown",
   "metadata": {
    "id": "uazaMqomas2p"
   },
   "source": [
    "## Create the simulation and initial state"
   ]
  },
  {
   "cell_type": "code",
   "execution_count": null,
   "metadata": {
    "colab": {
     "base_uri": "https://localhost:8080/"
    },
    "id": "HdQaktR1ePvr",
    "outputId": "5807ed6f-a6b8-4703-9b45-7c27a24b28c4"
   },
   "outputs": [],
   "source": [
    "import hoomd\n",
    "import numpy as np\n",
    "import matplotlib.pyplot as plt\n",
    "from mpl_toolkits.mplot3d import Axes3D\n",
    "\n",
    "def init_coord_bcc(a,n):\n",
    "  # a = lattice parameter\n",
    "  # n = number of unit cells in each direction\n",
    "\n",
    "  # basis atoms of bcc in fractional coordinates\n",
    "  basis = np.array([\n",
    "      [0.0, 0.0, 0.0],\n",
    "      [0.5, 0.5, 0.5]\n",
    "  ])\n",
    "\n",
    "  coords = []\n",
    "\n",
    "  for i in range(n):\n",
    "      for j in range(n):\n",
    "          for k in range(n):\n",
    "              cell_origin = np.array([i, j, k], dtype=float)\n",
    "              for b in basis:\n",
    "                  coords.append((cell_origin + b) * a)\n",
    "\n",
    "  coords = np.array(coords)\n",
    "  box = np.array([8*a, 8*a, 8*a])\n",
    "  return box, coords\n",
    "\n",
    "box, positions = init_coord_bcc(1.5,4)\n",
    "\n",
    "print(box)\n",
    "print(np.max(positions))"
   ]
  },
  {
   "cell_type": "code",
   "execution_count": null,
   "metadata": {
    "id": "AsKJyNhVpl-v"
   },
   "outputs": [],
   "source": [
    "# Load a function for visualization\n",
    "def plot_particles(coords):\n",
    "\n",
    "  # 3D plot\n",
    "  fig = plt.figure(figsize=(6,6))\n",
    "  ax = fig.add_subplot(111, projection='3d')\n",
    "\n",
    "  x = coords[:,0]\n",
    "  y = coords[:,1]\n",
    "  z = coords[:,2]\n",
    "\n",
    "  ax.scatter(x, y, z, c='blue', marker='o', s=40)\n",
    "\n",
    "  ax.set_xlabel('X')\n",
    "  ax.set_ylabel('Y')\n",
    "  ax.set_zlabel('Z')\n",
    "  ax.set_title('3D particle positions')\n",
    "\n",
    "  plt.show()\n"
   ]
  },
  {
   "cell_type": "code",
   "execution_count": null,
   "metadata": {
    "id": "vtPc0e4ja6N1"
   },
   "outputs": [],
   "source": [
    "# Initialization\n",
    "\n",
    "cpu = hoomd.device.CPU()\n",
    "sim = hoomd.Simulation(device=cpu, seed=2)\n",
    "\n",
    "snapshot = hoomd.Snapshot()\n",
    "snapshot.particles.N = len(positions)\n",
    "snapshot.particles.position[:] = positions\n",
    "snapshot.particles.types = ['A']\n",
    "snapshot.configuration.box = [box[0], box[1], box[2], 0, 0, 0]\n",
    "\n",
    "sim.create_state_from_snapshot(snapshot)\n"
   ]
  },
  {
   "cell_type": "code",
   "execution_count": null,
   "metadata": {
    "colab": {
     "base_uri": "https://localhost:8080/",
     "height": 521
    },
    "id": "DhZhG94PqNvR",
    "outputId": "7dcb9621-e553-4b24-c97d-0952fb450c8b"
   },
   "outputs": [],
   "source": [
    "# Visualize the initial state\n",
    "plot_particles(positions)"
   ]
  },
  {
   "cell_type": "markdown",
   "metadata": {
    "id": "lE7vQA1IgxlW"
   },
   "source": [
    "## Molecular dynamics classes\n",
    "\n",
    "The MD integrator numerically integrates the equations of motion:"
   ]
  },
  {
   "cell_type": "code",
   "execution_count": null,
   "metadata": {
    "id": "DRXCCD9ZgO9s"
   },
   "outputs": [],
   "source": [
    "integrator = hoomd.md.Integrator(dt=0.005)"
   ]
  },
  {
   "cell_type": "markdown",
   "metadata": {
    "id": "-BY-yoswg5cP"
   },
   "source": [
    "You need a neighbor list to compte pairwise interactions:"
   ]
  },
  {
   "cell_type": "code",
   "execution_count": null,
   "metadata": {
    "id": "PA1iwGsWgz6v"
   },
   "outputs": [],
   "source": [
    "cell = hoomd.md.nlist.Cell(buffer=0.4)"
   ]
  },
  {
   "cell_type": "markdown",
   "metadata": {
    "id": "J3eNrnBNg971"
   },
   "source": [
    "Compute Lennard-Jones interaction forces:\n",
    "$$V_{\\mathrm{LJ}}(r) = 4 \\varepsilon \\left[ \\left(\\frac{\\sigma}{r}\\right)^{12} - \\left(\\frac{\\sigma}{r}\\right)^6 \\right]$$"
   ]
  },
  {
   "cell_type": "code",
   "execution_count": null,
   "metadata": {
    "id": "o14Nb6TYg2A7"
   },
   "outputs": [],
   "source": [
    "lj = hoomd.md.pair.LJ(nlist=cell)\n",
    "lj.params[('A', 'A')] = dict(epsilon=1, sigma=1)"
   ]
  },
  {
   "cell_type": "markdown",
   "metadata": {
    "id": "PSpMbYVwhaIM"
   },
   "source": [
    "Set `r_cut` to 2.5:"
   ]
  },
  {
   "cell_type": "code",
   "execution_count": null,
   "metadata": {
    "id": "KDGcwYdjhAP_"
   },
   "outputs": [],
   "source": [
    "lj.r_cut[('A', 'A')] = 2.5"
   ]
  },
  {
   "cell_type": "markdown",
   "metadata": {
    "id": "t8TgIp_ihhF6"
   },
   "source": [
    "Add the `lj` force to the integrator's `forces` list:"
   ]
  },
  {
   "cell_type": "code",
   "execution_count": null,
   "metadata": {
    "id": "S2b4YY8ehfi1"
   },
   "outputs": [],
   "source": [
    "integrator.forces.append(lj)"
   ]
  },
  {
   "cell_type": "markdown",
   "metadata": {
    "id": "DU2EYm7Mho0R"
   },
   "source": [
    "The integration method sets the specific equations of motion that apply to a subset of particles:"
   ]
  },
  {
   "cell_type": "code",
   "execution_count": null,
   "metadata": {
    "id": "qC4to2pxhlD7"
   },
   "outputs": [],
   "source": [
    "all_particles = hoomd.filter.All()\n",
    "kT = 0.5\n",
    "nvt = hoomd.md.methods.ConstantVolume(thermostat=hoomd.md.methods.thermostats.Bussi(kT=1.5), filter=all_particles)\n",
    "mttk = hoomd.md.methods.thermostats.MTTK(kT=kT, tau=0.2)\n"
   ]
  },
  {
   "cell_type": "markdown",
   "metadata": {
    "id": "Vsz6xl4WiMh4"
   },
   "source": [
    "Add `nvt` to the integrator's `methods` list:"
   ]
  },
  {
   "cell_type": "code",
   "execution_count": null,
   "metadata": {
    "id": "rvg6X7MnhsIe"
   },
   "outputs": [],
   "source": [
    "integrator.methods.append(nvt)"
   ]
  },
  {
   "cell_type": "markdown",
   "metadata": {
    "id": "RnIvgEc9iTHI"
   },
   "source": [
    "Remember to add the integrator to the simulation operations!"
   ]
  },
  {
   "cell_type": "code",
   "execution_count": null,
   "metadata": {
    "id": "8Z_0ymIBiOya"
   },
   "outputs": [],
   "source": [
    "sim.operations += integrator\n",
    "sim.operations.integrator.methods[0].thermostat = mttk"
   ]
  },
  {
   "cell_type": "markdown",
   "metadata": {
    "id": "ox1svODQiXUk"
   },
   "source": [
    "## Running a molecular dynamics simulation\n",
    "\n",
    "HOOMD-blue defaults particle velocities to 0:"
   ]
  },
  {
   "cell_type": "code",
   "execution_count": null,
   "metadata": {
    "colab": {
     "base_uri": "https://localhost:8080/"
    },
    "id": "jVDtB3QxiUh2",
    "outputId": "d703a427-c3f5-4010-841b-e62df67d7b07"
   },
   "outputs": [],
   "source": [
    "print(sim.state.get_snapshot().particles.velocity[0:5, :])"
   ]
  },
  {
   "cell_type": "markdown",
   "metadata": {
    "id": "x58vDifTiemH"
   },
   "source": [
    "Thermalize the velocities and integration method's degrees of freedom before running."
   ]
  },
  {
   "cell_type": "code",
   "execution_count": null,
   "metadata": {
    "colab": {
     "base_uri": "https://localhost:8080/"
    },
    "id": "7zfxiWYFiZDR",
    "outputId": "68e3b763-a72b-4071-b3c3-9e3acf24288f"
   },
   "outputs": [],
   "source": [
    "sim.state.thermalize_particle_momenta(filter=all_particles, kT=kT)\n",
    "sim.run(0)\n",
    "mttk.thermalize_dof()\n",
    "print(sim.state.get_snapshot().particles.velocity[0:5, :])"
   ]
  },
  {
   "cell_type": "markdown",
   "metadata": {
    "id": "YVuI70-MoEsl"
   },
   "source": [
    "Get initial configurations"
   ]
  },
  {
   "cell_type": "code",
   "execution_count": null,
   "metadata": {
    "colab": {
     "base_uri": "https://localhost:8080/",
     "height": 521
    },
    "id": "4VYQXIkXoGnB",
    "outputId": "0d628a45-f188-4b04-9579-9424625f2a86"
   },
   "outputs": [],
   "source": [
    "pos_0 = sim.state.get_snapshot().particles.position\n",
    "box_0 = sim.state.get_snapshot().configuration.box\n",
    "\n",
    "plot_particles(pos_0)"
   ]
  },
  {
   "cell_type": "markdown",
   "metadata": {
    "id": "jGIzZvOjjsvX"
   },
   "source": [
    "Run the simulation:"
   ]
  },
  {
   "cell_type": "code",
   "execution_count": null,
   "metadata": {
    "colab": {
     "base_uri": "https://localhost:8080/",
     "height": 528
    },
    "id": "Gz-qvAwBigT4",
    "outputId": "9184d992-2607-4346-ae5f-af3f623b80d9"
   },
   "outputs": [],
   "source": [
    "sim.run(10000)\n",
    "\n",
    "pos_1 = sim.state.get_snapshot().particles.position\n",
    "box_1 = sim.state.get_snapshot().configuration.box\n",
    "\n",
    "plot_particles(pos_1)"
   ]
  },
  {
   "cell_type": "markdown",
   "metadata": {
    "id": "a0WB9VIyj7_V"
   },
   "source": [
    "## Querying thermodynamic quantities\n",
    "\n",
    "The `ThermodynamicQuantities` class computes properties of the simulation:"
   ]
  },
  {
   "cell_type": "code",
   "execution_count": null,
   "metadata": {
    "id": "_axTyPZkjuWn"
   },
   "outputs": [],
   "source": [
    "thermo = hoomd.md.compute.ThermodynamicQuantities(filter=all_particles)\n",
    "sim.operations += thermo"
   ]
  },
  {
   "cell_type": "markdown",
   "metadata": {
    "id": "koytUFf2kAi4"
   },
   "source": [
    "Use `thermo` to get the `potential_energy` of the system:"
   ]
  },
  {
   "cell_type": "code",
   "execution_count": null,
   "metadata": {
    "colab": {
     "base_uri": "https://localhost:8080/"
    },
    "id": "JUAfF9JTj995",
    "outputId": "5919fdbe-d61c-4340-9a95-d21c608e6b05"
   },
   "outputs": [],
   "source": [
    "print(thermo.potential_energy)\n",
    "print(thermo.kinetic_energy)\n",
    "print(thermo.kinetic_temperature)\n"
   ]
  },
  {
   "cell_type": "code",
   "execution_count": null,
   "metadata": {
    "colab": {
     "base_uri": "https://localhost:8080/",
     "height": 579
    },
    "id": "KlchPJrhkCoW",
    "outputId": "ccb78913-a913-4767-d340-341f2ef59bb8"
   },
   "outputs": [],
   "source": [
    "# Run again\n",
    "sim.run(10000)\n",
    "pos_2 = sim.state.get_snapshot().particles.position\n",
    "box_2 = sim.state.get_snapshot().configuration.box\n",
    "\n",
    "print(thermo.potential_energy)\n",
    "print(thermo.kinetic_energy)\n",
    "print(thermo.kinetic_temperature)\n",
    "\n",
    "plot_particles(pos_2)"
   ]
  },
  {
   "cell_type": "code",
   "execution_count": null,
   "metadata": {
    "colab": {
     "base_uri": "https://localhost:8080/",
     "height": 577
    },
    "id": "Id68lNtGksHk",
    "outputId": "ba23af98-6619-4dc3-964a-bf93a9edfe95"
   },
   "outputs": [],
   "source": [
    "# Run again\n",
    "sim.run(100000)\n",
    "pos_3 = sim.state.get_snapshot().particles.position\n",
    "box_3 = sim.state.get_snapshot().configuration.box\n",
    "\n",
    "print(thermo.potential_energy)\n",
    "print(thermo.kinetic_energy)\n",
    "print(thermo.kinetic_temperature)\n",
    "\n",
    "plot_particles(pos_3)\n"
   ]
  },
  {
   "cell_type": "code",
   "execution_count": null,
   "metadata": {
    "id": "iH1a42qQnuP5"
   },
   "outputs": [],
   "source": []
  }
 ],
 "metadata": {
  "colab": {
   "provenance": []
  },
  "kernelspec": {
   "display_name": "Python 3 (ipykernel)",
   "language": "python",
   "name": "python3"
  },
  "language_info": {
   "codemirror_mode": {
    "name": "ipython",
    "version": 3
   },
   "file_extension": ".py",
   "mimetype": "text/x-python",
   "name": "python",
   "nbconvert_exporter": "python",
   "pygments_lexer": "ipython3",
   "version": "3.11.8"
  }
 },
 "nbformat": 4,
 "nbformat_minor": 4
}
