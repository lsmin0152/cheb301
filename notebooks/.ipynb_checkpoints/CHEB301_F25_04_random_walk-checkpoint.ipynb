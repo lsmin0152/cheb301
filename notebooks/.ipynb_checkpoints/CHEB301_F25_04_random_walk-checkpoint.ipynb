{
 "cells": [
  {
   "cell_type": "markdown",
   "id": "5ad08869-1d06-4157-9618-71d685f2d516",
   "metadata": {},
   "source": [
    "# Random walk\n",
    "\n",
    "Random motion of particles is a basic principle of Brownian motion and a kind of diffusive process. \n",
    "In this class, we will write a code for simulating a model particle with random motion and calculate its mean-squared displacement. "
   ]
  },
  {
   "cell_type": "code",
   "execution_count": null,
   "id": "f13c28d6-9d3b-48b2-842b-fc8d397b53da",
   "metadata": {},
   "outputs": [],
   "source": [
    "# Generating random numbers with a given mean and a standard deviation \n",
    "\n",
    "import numpy as np\n",
    "import matplotlib.pyplot as plt\n",
    "\n",
    "mean = 0.0\n",
    "std = 1.0\n",
    "n_steps = 100\n",
    "\n",
    "rnd_numbers = np.random.normal(loc=mean, scale=std, size=n_steps)\n",
    "\n",
    "#print(rnd_numbers)\n",
    "\n",
    "plt.figure(figsize=(6,4))\n",
    "plt.hist(rnd_numbers, bins=15, edgecolor='black', alpha=0.3)\n",
    "plt.xlim(-10,10)\n",
    "plt.title(\"Histogram of random numbers\")\n",
    "plt.xlabel(\"Value\")\n",
    "plt.ylabel(\"Frequency\")\n"
   ]
  },
  {
   "cell_type": "code",
   "execution_count": null,
   "id": "934a1917-39d0-450e-a994-12ef7ec1e998",
   "metadata": {},
   "outputs": [],
   "source": [
    "\n",
    "## Generating random motion of a particle\n",
    "\n",
    "# Generating a random distance to move in 2D\n",
    "dx = np.random.normal(loc=mean, scale=std, size=n_steps)\n",
    "dy = np.random.normal(loc=mean, scale=std, size=n_steps)\n",
    "\n",
    "positions = []\n",
    "x, y = 0, 0 # initial position\n",
    "\n",
    "for i in range(n_steps):\n",
    "    # Random move\n",
    "    x = x + dx[i] \n",
    "    y = y + dy[i]\n",
    "    positions.append([x,y])\n",
    "    \n",
    "    # Snapshots\n",
    "    if i%10 == 0:\n",
    "        plt.figure(num=i, figsize=(4,4))\n",
    "        plt.plot(x,y,'o',color='black')\n",
    "        plt.title(\"Timestep = %d\"%(i))\n",
    "        plt.xlim(-30,30)\n",
    "        plt.ylim(-30,30)    \n",
    "\n",
    "positions = np.array(positions)\n",
    "\n",
    "# Plotting trace\n",
    "plt.figure(num=i+1, figsize=(4,4))\n",
    "plt.plot(positions[:,0], positions[:,1],color='grey') # Trace of particle\n",
    "plt.plot(positions[-1][0], positions[-1][1], 'o', color='red') # Last position\n",
    "plt.xlim(-30,30)\n",
    "plt.ylim(-30,30)\n"
   ]
  },
  {
   "cell_type": "markdown",
   "id": "50b986b5-e548-4252-88fa-e848c33d5907",
   "metadata": {},
   "source": [
    "# Compute the mean squared displacement (MSD).\n",
    "\n",
    "The mean squared displacement (MSD) measures how much particles move over time. The MSD plays an important role in characterizing Brownian motion, since it provides a measure of whether particles are moving according to diffusion alone or if there are other forces contributing. There are a number of definitions for the mean squared displacement. This function provides access to the most common definition.\n",
    "\n",
    "$$\n",
    "\\mathrm{MSD}(m)\n",
    "= \\frac{1}{N_{\\text{particles}}}\n",
    "\\sum_{i=1}^{N_{\\text{particles}}}\n",
    "\\frac{1}{N-m}\n",
    "\\sum_{k=0}^{N-m-1}\n",
    "\\bigl(\\vec{r}_i(k+m)-\\vec{r}_i(k)\\bigr)^2\n",
    "$$\n",
    "\n",
    "where $\\vec{r}_i(t)$ is the position of particle $i$ in frame $t$. According to this definition, the mean squared displacement is the average displacement over all windows of length $m$ over the course of the simulation. Therefore, for any $m$, $\\mathrm{MSD}(m)$ is averaged over all windows of length $m$ and over all particles. \n"
   ]
  },
  {
   "cell_type": "code",
   "execution_count": null,
   "id": "511d2368-36af-4662-ab25-c0b63995dd62",
   "metadata": {},
   "outputs": [],
   "source": [
    "\n",
    "def compute_msd(positions):\n",
    "    N = len(positions)\n",
    "    max_window = N/4\n",
    "    windows = np.arange(1, max_window + 1, dtype=int)\n",
    "    msd = []\n",
    "    for i, window in enumerate(windows):\n",
    "        d = positions[window:] - positions[:-window] \n",
    "        msd.append(np.mean(np.sum(d*d, axis=1)))\n",
    "    return windows, np.array(msd)\n",
    "\n",
    "windows, msd = compute_msd(positions)\n",
    "\n",
    "plt.plot(windows,msd,color='black')\n",
    "plt.title(\"MSD (2D random walk)\")\n",
    "plt.xlabel(\"Window size\")\n",
    "plt.ylabel(\"MSD\")\n"
   ]
  },
  {
   "cell_type": "code",
   "execution_count": null,
   "id": "169dfcaa-9e42-42ca-8741-42d57cd799ac",
   "metadata": {},
   "outputs": [],
   "source": []
  }
 ],
 "metadata": {
  "kernelspec": {
   "display_name": "Python 3 (ipykernel)",
   "language": "python",
   "name": "python3"
  },
  "language_info": {
   "codemirror_mode": {
    "name": "ipython",
    "version": 3
   },
   "file_extension": ".py",
   "mimetype": "text/x-python",
   "name": "python",
   "nbconvert_exporter": "python",
   "pygments_lexer": "ipython3",
   "version": "3.11.8"
  }
 },
 "nbformat": 4,
 "nbformat_minor": 5
}
