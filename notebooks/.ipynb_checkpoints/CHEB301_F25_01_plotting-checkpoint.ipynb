{
 "cells": [
  {
   "cell_type": "markdown",
   "metadata": {
    "id": "-JT5YpYWjgjW"
   },
   "source": [
    "[Link to colab](https://colab.research.google.com/github/lsmin0152/cheb301/blob/main/notebooks/CHEB301_F25_01_plotting.ipynb)"
   ]
  },
  {
   "cell_type": "markdown",
   "metadata": {
    "id": "a2AMaD3MjgjX"
   },
   "source": [
    "# Python basics - Plotting data\n",
    "\n",
    "## Install dependencies\n",
    "\n",
    "We will first have to make sure that the required libraries are installed.\n",
    "\n",
    "How are python modules installed? Usually, through a package manager like `pip` or `conda`.\n",
    "\n",
    "How do I find what line to run to install a specific package? You google the package and look at the install section in the documentation.\n",
    "\n",
    "For example, if we want to install `matplotlib`, we would search for `matplotlib` on google, find https://matplotlib.org/stable/index.html and run the command `pip install matplotlib`.\n",
    "\n",
    "Because this is a shell command, you have to run it with an `!`."
   ]
  },
  {
   "cell_type": "code",
   "execution_count": null,
   "metadata": {
    "id": "E9iQJPE7jgjX"
   },
   "outputs": [],
   "source": [
    "!pip install matplotlib"
   ]
  },
  {
   "cell_type": "markdown",
   "metadata": {
    "id": "uIRgY7vnjgjX"
   },
   "source": [
    "Similar for `seaborn`, you would google the library, find https://seaborn.pydata.org, look at installing, and run `pip install seaborn`."
   ]
  },
  {
   "cell_type": "code",
   "execution_count": null,
   "metadata": {
    "id": "OPLPimRKjgjX"
   },
   "outputs": [],
   "source": [
    "!pip install seaborn"
   ]
  },
  {
   "cell_type": "markdown",
   "metadata": {
    "id": "IWxoLkTtjgjX"
   },
   "source": [
    "\n",
    "## matplotlib and seaborn\n",
    "\n",
    "`matplotlib` and `seaborn` are both popular plotting libraries in Python.\n",
    "\n",
    "`matplotlib` is a low-level plotting library that allows you to create a wide variety of plots, including line plots, scatter plots, bar plots, histograms, and more. matplotlib has a lot of customization options, which can make it a bit more difficult to use than other plotting libraries, but it gives you the flexibility to create almost any kind of plot you need.\n",
    "\n",
    "Here's a simple example of how you could use `matplotlib` to create a line plot:\n"
   ]
  },
  {
   "cell_type": "code",
   "execution_count": null,
   "metadata": {
    "id": "2O6l4BpfjgjX"
   },
   "outputs": [],
   "source": [
    "import matplotlib.pyplot as plt\n",
    "\n",
    "x = [1, 2, 3, 4, 5]\n",
    "y = [2, 4, 6, 8, 10]\n",
    "\n",
    "plt.plot(x, y)\n",
    "plt.xlabel(\"X Axis\")\n",
    "plt.ylabel(\"Y Axis\")\n",
    "plt.title(\"Line Plot\")"
   ]
  },
  {
   "cell_type": "code",
   "execution_count": null,
   "metadata": {},
   "outputs": [],
   "source": [
    "\n",
    "plt.plot(x, y, 'o')\n",
    "plt.xlabel(\"X Axis\")\n",
    "plt.ylabel(\"Y Axis\")\n",
    "plt.title(\"Scattered Plot\")\n"
   ]
  },
  {
   "cell_type": "code",
   "execution_count": null,
   "metadata": {},
   "outputs": [],
   "source": [
    "plt.plot(x, y, '-o', color = 'red')\n",
    "plt.xlabel(\"X Axis\")\n",
    "plt.ylabel(\"Y Axis\")\n",
    "plt.title(\"Scattered with line Plot\")"
   ]
  },
  {
   "cell_type": "markdown",
   "metadata": {
    "id": "IdZfD1DejgjY"
   },
   "source": [
    "`seaborn` is a higher-level plotting library built on top of matplotlib that makes it easier to create beautiful and informative statistical plots. `seaborn` has a lot of built-in functions for plotting commonly used statistical plots, such as violin plots, box plots, and heatmaps, which can save you a lot of time and make your plots look more professional.\n",
    "\n",
    "Here's a simple example of how you could use `seaborn` to create a scatter plot:\n"
   ]
  },
  {
   "cell_type": "code",
   "execution_count": null,
   "metadata": {
    "id": "QQwTNnokjgjY"
   },
   "outputs": [],
   "source": [
    "import seaborn as sns\n",
    "\n",
    "x = [1, 2, 3, 4, 5]\n",
    "y = [2, 4, 6, 8, 10]\n",
    "\n",
    "sns.scatterplot(x=x, y=y)\n",
    "plt.xlabel(\"X Axis\")\n",
    "plt.ylabel(\"Y Axis\")\n",
    "plt.title(\"Scatter Plot\")"
   ]
  },
  {
   "cell_type": "markdown",
   "metadata": {
    "id": "cHZaql-MjgjY"
   },
   "source": [
    "Those are just simple plots, but you can check out [`seaborn` gallery](https://seaborn.pydata.org/examples/index.html) for inspiration of more advanced plots."
   ]
  },
  {
   "cell_type": "code",
   "execution_count": null,
   "metadata": {},
   "outputs": [],
   "source": [
    "import numpy as np\n",
    "\n",
    "sns.set_theme(style=\"dark\")\n",
    "\n",
    "# Simulate data from a bivariate Gaussian\n",
    "n = 10000\n",
    "mean = [0, 0]\n",
    "cov = [(2, .4), (.4, .2)]\n",
    "rng = np.random.RandomState(0)\n",
    "x, y = rng.multivariate_normal(mean, cov, n).T\n",
    "\n",
    "# Draw a combo histogram and scatterplot with density contours\n",
    "f, ax = plt.subplots(figsize=(6, 6))\n",
    "sns.scatterplot(x=x, y=y, s=5, color=\".15\")\n",
    "sns.histplot(x=x, y=y, bins=50, pthresh=.1, cmap=\"mako\")\n",
    "sns.kdeplot(x=x, y=y, levels=5, color=\"w\", linewidths=1)"
   ]
  },
  {
   "cell_type": "markdown",
   "metadata": {
    "id": "PbcrF5HJjgjY"
   },
   "source": [
    "## Plotting the ESOL data\n",
    "\n",
    "\n",
    "Let's load the delaney data again. We can also do it directly from the URL."
   ]
  },
  {
   "cell_type": "code",
   "execution_count": null,
   "metadata": {
    "id": "rgv33_ZJjgjY"
   },
   "outputs": [],
   "source": [
    "import pandas as pd\n",
    "df = pd.read_csv(\"https://raw.githubusercontent.com/lsmin0152/cheb301/refs/heads/main/notebooks/data/delaney-processed.csv\" )\n",
    "\n",
    "df.describe() # prints summary statistics for each column"
   ]
  },
  {
   "cell_type": "markdown",
   "metadata": {
    "id": "7y_PTAddjgjY"
   },
   "source": [
    "Pandas directly lets us plot starting from the DataFrame."
   ]
  },
  {
   "cell_type": "code",
   "execution_count": null,
   "metadata": {
    "id": "n8k73Q25jgjY"
   },
   "outputs": [],
   "source": [
    "# Plot 'measured log solubility in mols per litre' vs 'Molecular Weight'\n",
    "df.plot(x='Molecular Weight', y='measured log solubility in mols per litre', kind='scatter')\n"
   ]
  },
  {
   "cell_type": "code",
   "execution_count": null,
   "metadata": {
    "id": "diNRBNGdjgjY"
   },
   "outputs": [],
   "source": [
    "# Plot a histogram of 'ESOL predicted log solubility in mols per litre'\n",
    "df['ESOL predicted log solubility in mols per litre'].plot(kind='hist')\n"
   ]
  },
  {
   "cell_type": "code",
   "execution_count": null,
   "metadata": {
    "id": "4Z-kJ917jgjY"
   },
   "outputs": [],
   "source": [
    "# Scatter plot with regression line\n",
    "sns.regplot(x='Molecular Weight', y='measured log solubility in mols per litre', data=df)\n"
   ]
  },
  {
   "cell_type": "code",
   "execution_count": null,
   "metadata": {
    "id": "vFnuByHujgjY"
   },
   "outputs": [],
   "source": [
    "# Joint plot with histograms on the sides\n",
    "sns.jointplot(x='Number of Rings', y='Number of H-Bond Donors', data=df)\n"
   ]
  },
  {
   "cell_type": "code",
   "execution_count": null,
   "metadata": {
    "id": "LowOwHOljgjY"
   },
   "outputs": [],
   "source": [
    "# Violin plot to show the distribution of 'Number of Rotatable Bonds'\n",
    "sns.violinplot(x='Number of Rotatable Bonds', data=df)\n",
    "plt.show()\n"
   ]
  }
 ],
 "metadata": {
  "colab": {
   "provenance": []
  },
  "kernelspec": {
   "display_name": "Python 3 (ipykernel)",
   "language": "python",
   "name": "python3"
  },
  "language_info": {
   "codemirror_mode": {
    "name": "ipython",
    "version": 3
   },
   "file_extension": ".py",
   "mimetype": "text/x-python",
   "name": "python",
   "nbconvert_exporter": "python",
   "pygments_lexer": "ipython3",
   "version": "3.11.8"
  },
  "vscode": {
   "interpreter": {
    "hash": "9571ef9a7bc45a09ccc2f3720496d960963c4ded6b0c85c59c3fe4342582d55a"
   }
  }
 },
 "nbformat": 4,
 "nbformat_minor": 4
}
