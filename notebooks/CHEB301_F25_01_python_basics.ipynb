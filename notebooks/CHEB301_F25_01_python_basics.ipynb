{
 "cells": [
  {
   "cell_type": "markdown",
   "metadata": {
    "id": "KbuurxLpAeGo"
   },
   "source": [
    "[Link to colab](https://colab.research.google.com/github/lsmin0152/cheb301/blob/main/notebooks/CHEB301_F25_01_python_basics.ipynb#scrollTo=o2m9o7IZBn75)\n",
    "# Python Crash Course\n",
    "\n",
    "Some of you might have only little experience with Python. This introductory tutorial will help you to get started.\n",
    "\n",
    "\n"
   ]
  },
  {
   "cell_type": "markdown",
   "metadata": {
    "id": "0b5q3WsmBIi9"
   },
   "source": [
    "## Introduction to Python\n",
    "\n",
    "If you have not too much experience with Python programming, we strongly recommend to go through some online tutorials, such as the ones from [Kaggle Learn](https://www.kaggle.com/learn). This will help you to get started. Here is just a brief overview of the basic concepts.\n",
    "\n",
    "### Variables\n",
    "\n",
    "Variables are used to store values in a program. You can assign values to variables using the `=` operator. For example (you can run it using `SHIFT + ENTER` or clicking on `Run`):"
   ]
  },
  {
   "cell_type": "code",
   "execution_count": null,
   "metadata": {
    "colab": {
     "base_uri": "https://localhost:8080/"
    },
    "executionInfo": {
     "elapsed": 120,
     "status": "ok",
     "timestamp": 1756793050157,
     "user": {
      "displayName": "Sangmin Lee",
      "userId": "01131787595448850443"
     },
     "user_tz": -540
    },
    "id": "6i8Or_T2A3Cy",
    "outputId": "2871551c-307d-45af-cfeb-e951376786d2"
   },
   "outputs": [
    {
     "name": "stdout",
     "output_type": "stream",
     "text": [
      "15\n"
     ]
    }
   ],
   "source": [
    "x = 5 # assign 5 to the variable x\n",
    "y = 10 # assign 10 to the variable y\n",
    "z = x + y # add x and y, and assign the value to z\n",
    "print(z) # Output: 15"
   ]
  },
  {
   "cell_type": "markdown",
   "metadata": {
    "id": "IdiJHpbFCYer"
   },
   "source": [
    "### Data Types\n",
    "\n",
    "Python has several built-in data types, including numbers (integer, float), strings, lists, tuples, and dictionaries. For example:"
   ]
  },
  {
   "cell_type": "code",
   "execution_count": null,
   "metadata": {
    "colab": {
     "base_uri": "https://localhost:8080/"
    },
    "executionInfo": {
     "elapsed": 9,
     "status": "ok",
     "timestamp": 1756793216068,
     "user": {
      "displayName": "Sangmin Lee",
      "userId": "01131787595448850443"
     },
     "user_tz": -540
    },
    "id": "o2m9o7IZBn75",
    "outputId": "e6e105a1-c281-482e-8b6e-de84f2104971"
   },
   "outputs": [
    {
     "name": "stdout",
     "output_type": "stream",
     "text": [
      "('Nix', 'Po', 30)\n",
      "Nix\n",
      "{'first_name': 'Nix', 'last_name': 'Po', 'age': 8}\n",
      "Nix\n"
     ]
    }
   ],
   "source": [
    "# Numbers\n",
    "x = 5\n",
    "y = 5.5\n",
    "\n",
    "# Strings\n",
    "name = \"Nix Po\"\n",
    "\n",
    "# Lists\n",
    "fruits = [\"apple\", \"banana\", \"cherry\"]\n",
    "\n",
    "# Tuples\n",
    "person = (\"Nix\", \"Po\", 30)\n",
    "\n",
    "print(person)\n",
    "print(person[0])\n",
    "\n",
    "# Dictionaries\n",
    "person = {\n",
    "    \"first_name\": \"Nix\",\n",
    "    \"last_name\": \"Po\",\n",
    "    \"age\": 8\n",
    "}\n",
    "\n",
    "print(person)\n",
    "print(person['first_name'])"
   ]
  },
  {
   "cell_type": "markdown",
   "metadata": {
    "id": "WverPJ6tCgKN"
   },
   "source": [
    "### Operators\n",
    "Python supports several types of operators, including arithmetic, comparison, and assignment operators. For example:"
   ]
  },
  {
   "cell_type": "code",
   "execution_count": null,
   "metadata": {
    "colab": {
     "base_uri": "https://localhost:8080/"
    },
    "executionInfo": {
     "elapsed": 4,
     "status": "ok",
     "timestamp": 1756793282826,
     "user": {
      "displayName": "Sangmin Lee",
      "userId": "01131787595448850443"
     },
     "user_tz": -540
    },
    "id": "j3QYQ8h5Bzxz",
    "outputId": "13f9efec-e5e1-4a5b-8578-5b70c65d597a"
   },
   "outputs": [
    {
     "name": "stdout",
     "output_type": "stream",
     "text": [
      "8\n",
      "True\n",
      "8\n"
     ]
    }
   ],
   "source": [
    "# Arithmetic\n",
    "x = 5\n",
    "y = 3\n",
    "z = x + y\n",
    "print(z) # Output: 8\n",
    "\n",
    "# Comparison\n",
    "x = 5\n",
    "y = 3\n",
    "print(x > y) # Output: True\n",
    "\n",
    "# Assignment\n",
    "x = 5\n",
    "x += 3\n",
    "print(x) # Output: 8"
   ]
  },
  {
   "cell_type": "markdown",
   "metadata": {
    "id": "EwgUOvZyCkJC"
   },
   "source": [
    "### Conditional Statements\n",
    "Conditional statements allow you to control the flow of a program based on certain conditions. You can play around by changing the value of `x`."
   ]
  },
  {
   "cell_type": "code",
   "execution_count": null,
   "metadata": {
    "colab": {
     "base_uri": "https://localhost:8080/"
    },
    "executionInfo": {
     "elapsed": 3,
     "status": "ok",
     "timestamp": 1756793301990,
     "user": {
      "displayName": "Sangmin Lee",
      "userId": "01131787595448850443"
     },
     "user_tz": -540
    },
    "id": "VJwMuZ2FCiBJ",
    "outputId": "2b6920fc-ac1f-4129-c765-0f1cd8ac36e9"
   },
   "outputs": [
    {
     "name": "stdout",
     "output_type": "stream",
     "text": [
      "x is less than or equal to 10\n"
     ]
    }
   ],
   "source": [
    "x = 5\n",
    "if x > 10:\n",
    "    print(\"x is greater than 10\")\n",
    "else:\n",
    "    print(\"x is less than or equal to 10\")"
   ]
  },
  {
   "cell_type": "markdown",
   "metadata": {
    "id": "s-IgLjAgCtG3"
   },
   "source": [
    "### Loops\n",
    "Loops allow you to repeat a block of code multiple times. There are two types of loops in Python: `for` and `while` loops."
   ]
  },
  {
   "cell_type": "code",
   "execution_count": null,
   "metadata": {
    "colab": {
     "base_uri": "https://localhost:8080/"
    },
    "executionInfo": {
     "elapsed": 7,
     "status": "ok",
     "timestamp": 1756793335584,
     "user": {
      "displayName": "Sangmin Lee",
      "userId": "01131787595448850443"
     },
     "user_tz": -540
    },
    "id": "jd94nECHCmsz",
    "outputId": "71156325-3259-42a6-c14f-16c9d50b81a4"
   },
   "outputs": [
    {
     "name": "stdout",
     "output_type": "stream",
     "text": [
      "apple\n",
      "banana\n",
      "cherry\n"
     ]
    }
   ],
   "source": [
    "# For Loop\n",
    "fruits = [\"apple\", \"banana\", \"cherry\"]\n",
    "for fruit in fruits:\n",
    "    print(fruit)\n",
    "\n",
    "# Output:\n",
    "# apple\n",
    "# banana\n",
    "# cherry"
   ]
  },
  {
   "cell_type": "code",
   "execution_count": null,
   "metadata": {
    "colab": {
     "base_uri": "https://localhost:8080/"
    },
    "executionInfo": {
     "elapsed": 10,
     "status": "ok",
     "timestamp": 1756793344439,
     "user": {
      "displayName": "Sangmin Lee",
      "userId": "01131787595448850443"
     },
     "user_tz": -540
    },
    "id": "ht7JqFwQCu5u",
    "outputId": "b3cf9805-4004-441d-bcf6-2de7f02fefdf"
   },
   "outputs": [
    {
     "name": "stdout",
     "output_type": "stream",
     "text": [
      "0\n",
      "1\n",
      "2\n",
      "3\n",
      "4\n"
     ]
    }
   ],
   "source": [
    "# While Loop\n",
    "x = 0\n",
    "while x < 5:\n",
    "    print(x)\n",
    "    x += 1\n",
    "\n",
    "# Output:\n",
    "# 0\n",
    "# 1\n",
    "# 2\n",
    "# 3\n",
    "# 4"
   ]
  },
  {
   "cell_type": "markdown",
   "metadata": {
    "id": "avjxF4QTCzPZ"
   },
   "source": [
    "### Functions\n",
    "Functions are reusable blocks of code that perform a specific task. You can define functions using the `def` keyword."
   ]
  },
  {
   "cell_type": "code",
   "execution_count": null,
   "metadata": {
    "colab": {
     "base_uri": "https://localhost:8080/"
    },
    "executionInfo": {
     "elapsed": 9,
     "status": "ok",
     "timestamp": 1756793368470,
     "user": {
      "displayName": "Sangmin Lee",
      "userId": "01131787595448850443"
     },
     "user_tz": -540
    },
    "id": "12ZRSj_8CxEE",
    "outputId": "4a2ca6ba-c7a0-4da0-a16c-35ba88c4ccd0"
   },
   "outputs": [
    {
     "name": "stdout",
     "output_type": "stream",
     "text": [
      "Hello, Ponix\n"
     ]
    }
   ],
   "source": [
    "def greet(name):\n",
    "    print(\"Hello, \" + name)\n",
    "\n",
    "greet(\"Ponix\") # Output: Hello, Ponix"
   ]
  },
  {
   "cell_type": "markdown",
   "metadata": {
    "id": "cqMIl3SGDIOT"
   },
   "source": [
    "## Additional examples\n",
    "\n",
    "You can copy any of that code to make it run in a `code` cell.\n",
    "\n",
    "### Numbers\n",
    "\n",
    "```python\n",
    "# Addition\n",
    "x = 5\n",
    "y = 10\n",
    "z = x + y\n",
    "print(z) # Output: 15\n",
    "\n",
    "# Subtraction\n",
    "x = 15\n",
    "y = 10\n",
    "z = x - y\n",
    "print(z) # Output: 5\n",
    "\n",
    "# Multiplication\n",
    "x = 5\n",
    "y = 10\n",
    "z = x * y\n",
    "print(z) # Output: 50\n",
    "\n",
    "# Division\n",
    "x = 15\n",
    "y = 10\n",
    "z = x / y\n",
    "print(z) # Output: 1.5\n",
    "\n",
    "# Modulo\n",
    "x = 15\n",
    "y = 10\n",
    "z = x % y\n",
    "print(z) # Output: 5\n",
    "\n",
    "# Exponentiation\n",
    "x = 5\n",
    "y = 2\n",
    "z = x ** y\n",
    "print(z) # Output: 25\n",
    "```\n",
    "\n",
    "Just create a `code` cell below to run selected examples."
   ]
  },
  {
   "cell_type": "markdown",
   "metadata": {
    "id": "RitWRwvhDLNG"
   },
   "source": [
    "### Strings\n",
    "\n",
    "```python\n",
    "first_name = \"Nix\"\n",
    "last_name = \"Po\"\n",
    "full_name = first_name + \" \" + last_name\n",
    "print(full_name) # Output: Po nix\n",
    "\n",
    "# Repetition\n",
    "x = \"hello\"\n",
    "y = x * 3\n",
    "print(y) # Output: hellohellohello\n",
    "\n",
    "# Indexing\n",
    "x = \"hello\"\n",
    "print(x[0]) # First element -> Output: h\n",
    "print(x[-1]) # Last element -> Output: o\n",
    "\n",
    "# Slicing\n",
    "x = \"hello\"\n",
    "print(x[1:4]) # Output: ell\n",
    "print(x[:3]) # Output: hel\n",
    "print(x[1:]) # Output: ello\n",
    "\n",
    "# Membership\n",
    "x = \"hello\"\n",
    "print(\"h\" in x) # Output: True\n",
    "print(\"z\" in x) # Output: False\n",
    "```"
   ]
  },
  {
   "cell_type": "markdown",
   "metadata": {
    "id": "5ub1Ky5dDPZ-"
   },
   "source": [
    "### Lists\n",
    "\n",
    "```python\n",
    "# Indexing\n",
    "fruits = [\"apple\", \"banana\", \"cherry\"]\n",
    "print(fruits[0]) # Output: apple\n",
    "print(fruits[-1]) # Output: cherry\n",
    "\n",
    "# Slicing\n",
    "fruits = [\"apple\", \"banana\", \"cherry\"]\n",
    "print(fruits[1:3]) # Output: ['banana', 'cherry']\n",
    "\n",
    "# Membership\n",
    "fruits = [\"apple\", \"banana\", \"cherry\"]\n",
    "print(\"apple\" in fruits) # Output: True\n",
    "print(\"orange\" in fruits) # Output: False\n",
    "\n",
    "# Length\n",
    "fruits = [\"apple\", \"banana\", \"cherry\"]\n",
    "print(len(fruits)) # Output: 3\n",
    "\n",
    "# Append\n",
    "fruits = [\"apple\", \"banana\", \"cherry\"]\n",
    "fruits.append(\"orange\")\n",
    "print(fruits) # Output: ['apple', 'banana', 'cherry', 'orange']\n",
    "\n",
    "# Insert\n",
    "fruits = [\"apple\", \"banana\", \"cherry\"]\n",
    "fruits.insert(1, \"orange\")\n",
    "print(fruits) # Output: ['apple', 'orange', 'banana', 'cherry']\n",
    "\n",
    "# Remove\n",
    "fruits = [\"apple\", \"banana\", \"cherry\"]\n",
    "fruits.remove(\"banana\")\n",
    "print(fruits) # Output: ['apple', 'cherry']\n",
    "\n",
    "# Pop\n",
    "fruits = [\"apple\", \"banana\", \"cherry\"]\n",
    "x = fruits.pop()\n",
    "print(x) # Output: cherry\n",
    "print(fruits) # Output: ['apple', 'banana']\n",
    "```"
   ]
  },
  {
   "cell_type": "markdown",
   "metadata": {
    "id": "uS8a3KysDUNz"
   },
   "source": [
    "### Tuples\n",
    "```python\n",
    "# Indexing\n",
    "person = (\"Nix\", \"Po\", 30)\n",
    "print(person[0]) # Output: Nix\n",
    "print(person[-1]) # Output: 30\n",
    "\n",
    "# Slicing\n",
    "person = (\"Nix\", \"Po\", 30)\n",
    "print(person[1:3]) # Output: ('Po', 30)\n",
    "\n",
    "# Membership\n",
    "person = (\"Nix\", \"Po\", 30)\n",
    "print(\"Nix\" in person) # Output: True\n",
    "print(\"John\" in person) # Output: False\n",
    "\n",
    "# Length\n",
    "person = (\"Nix\", \"Po\", 30)\n",
    "print(len(person)) # Output: 3\n",
    "```"
   ]
  },
  {
   "cell_type": "markdown",
   "metadata": {
    "id": "SKHX08B5DYcn"
   },
   "source": [
    "## Dictionaries\n",
    "\n",
    "```python\n",
    "# Indexing\n",
    "person = {\n",
    "    \"first_name\": \"Nix\",\n",
    "    \"last\n",
    "last_name\": \"Po\",\n",
    "    \"age\": 8\n",
    "}\n",
    "print(person[\"first_name\"]) # Output: Nix\n",
    "\n",
    "# Membership\n",
    "person = {\n",
    "    \"first_name\": \"Nix\",\n",
    "    \"last_name\": \"Po\",\n",
    "    \"age\": 8\n",
    "}\n",
    "print(\"first_name\" in person) # Output: True\n",
    "print(\"email\" in person) # Output: False\n",
    "\n",
    "# Length\n",
    "person = {\n",
    "    \"first_name\": \"Nix\",\n",
    "    \"last_name\": \"Po\",\n",
    "    \"age\": 8\n",
    "}\n",
    "print(len(person)) # Output: 3\n",
    "\n",
    "# Adding key-value pairs\n",
    "person = {\n",
    "    \"first_name\": \"Nix\",\n",
    "    \"last_name\": \"Po\",\n",
    "    \"age\": 8\n",
    "}\n",
    "person[\"email\"] = \"nixpo@email.com\"\n",
    "print(person) # Output: {'first_name': 'Nix', 'last_name': 'Po', 'age': 8, 'email': 'nixpo@email.com'}\n",
    "\n",
    "# Modifying values\n",
    "person = {\n",
    "    \"first_name\": \"Nix\",\n",
    "    \"last_name\": \"Po\",\n",
    "    \"age\": 8\n",
    "}\n",
    "person[\"first_name\"] = \"Dong\"\n",
    "print(person) # Output: {'first_name': 'Dong', 'last_name': 'Po', 'age': 8}\n",
    "\n",
    "# Removing key-value pairs\n",
    "person = {\n",
    "    \"first_name\": \"Dong\",\n",
    "    \"last_name\": \"Po\",\n",
    "    \"age\": 8\n",
    "}\n",
    "del person[\"age\"]\n",
    "print(person) # Output: {'first_name': 'Dong', 'last_name': 'Po'}\n",
    "\n",
    "```"
   ]
  },
  {
   "cell_type": "markdown",
   "metadata": {
    "id": "C5upVNBIDatC"
   },
   "source": [
    "This is just a brief introduction to Python programming. There are many more advanced topics and features in Python, but these basics should give you a good start.\n",
    "\n",
    "If you want more exercises for basic Python Programming go through the `Intro to Programming` and `Python` courses on [Kaggle Learn](https://www.kaggle.com/learn)."
   ]
  }
 ],
 "metadata": {
  "colab": {
   "authorship_tag": "ABX9TyOnmA+ufbo9UakzWyCzm/Do",
   "provenance": []
  },
  "kernelspec": {
   "display_name": "Python 3 (ipykernel)",
   "language": "python",
   "name": "python3"
  },
  "language_info": {
   "codemirror_mode": {
    "name": "ipython",
    "version": 3
   },
   "file_extension": ".py",
   "mimetype": "text/x-python",
   "name": "python",
   "nbconvert_exporter": "python",
   "pygments_lexer": "ipython3",
   "version": "3.11.8"
  }
 },
 "nbformat": 4,
 "nbformat_minor": 4
}
