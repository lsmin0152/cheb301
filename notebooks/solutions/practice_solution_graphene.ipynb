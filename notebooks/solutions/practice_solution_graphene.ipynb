{
 "cells": [
  {
   "cell_type": "markdown",
   "id": "bf470708-6452-4a49-9a40-2ae9d242b8ab",
   "metadata": {},
   "source": [
    "[Link to colab](https://colab.research.google.com/github/lsmin0152/cheb301/blob/main/notebooks/solutions/practice_solution_graphene.ipynb#scrollTo=f5ed5baa-b9f9-46f2-a719-7b7e6146c8c8)\n",
    "# Solution for practice problem\n",
    "Calculating potential energy landscape around a graphene"
   ]
  },
  {
   "cell_type": "code",
   "execution_count": null,
   "id": "a94510a2-2f9c-4d61-9de7-ca10328b53b1",
   "metadata": {},
   "outputs": [],
   "source": [
    "import numpy as np\n",
    "import matplotlib.pyplot as plt\n",
    "\n",
    "fname = 'https://raw.githubusercontent.com/lsmin0152/cheb301/refs/heads/main/notebooks/data/graphene_coord.txt'\n",
    "coords = np.genfromtxt(fname)\n",
    "\n",
    "plt.figure(figsize=(6,6))\n",
    "plt.plot(coords[:,0],coords[:,1],'o',color='black')\n",
    "\n",
    "plt.xlim(-5,5)\n",
    "plt.ylim(-5,5)\n",
    "\n"
   ]
  },
  {
   "cell_type": "code",
   "execution_count": null,
   "id": "f5ed5baa-b9f9-46f2-a719-7b7e6146c8c8",
   "metadata": {},
   "outputs": [],
   "source": [
    "import math\n",
    "\n",
    "def calDist(v1,v2):\n",
    "    if len(v1) == 3:\n",
    "        dist = math.sqrt((v2[0]-v1[0])**2 + (v2[1]-v1[1])**2 + (v2[2]-v1[2])**2)\n",
    "    elif len(v1) == 2:\n",
    "        dist = math.sqrt((v2[0]-v1[0])**2 + (v2[1]-v1[1])**2)\n",
    "    return dist\n",
    "\n",
    "\n",
    "def LJ(v1, v2, epsilon, sigma):\n",
    "    r = calDist(v1,v2)\n",
    "    E = 4*epsilon*((sigma/r)**12 - (sigma/r)**6)\n",
    "    return E\n",
    "\n",
    "grid_num = 300\n",
    "x_grid = np.linspace(-5,5,grid_num)\n",
    "y_grid = np.linspace(-5,5,grid_num)\n",
    "\n",
    "z_grid = np.array([0,0.5,1,1.5,2,2.5])\n",
    "\n",
    "e_LJ = 1.0\n",
    "s_LJ = 1.0\n",
    "\n",
    "for num,z in enumerate(z_grid):\n",
    "    grid_E_LJ = []\n",
    "    for x in x_grid:\n",
    "        for y in y_grid:\n",
    "            grid_coord = [x,y,z]\n",
    "            E_total = 0\n",
    "            for c in coords: \n",
    "                # iterating all given graphene coordinates b/c there are not so many. \n",
    "                # If there are many, you should use r_cut. \n",
    "                # Think about how to. \n",
    "                E_total += LJ(grid_coord, c, e_LJ, s_LJ)\n",
    "            grid_E_LJ.append([x,y,E_total])\n",
    "    \n",
    "    grid_E_LJ = np.array(grid_E_LJ)\n",
    "    \n",
    "    ## Format of grid_E_LJ:\n",
    "    ## [x1, y1, z1, E1],\n",
    "    ## [x1, y2, z1, E1],\n",
    "    ## [x1, y3, z1 E1], ...\n",
    "    \n",
    "    grid_E_LJ_matrix = []\n",
    "    for i in range(grid_num):\n",
    "        grid_E_LJ_matrix.append(grid_E_LJ[i*grid_num:(i+1)*grid_num][:,2]) \n",
    "    grid_E_LJ_matrix = np.array(grid_E_LJ_matrix)\n",
    "        \n",
    "    print(\"Maximum LJ value: \", np.max(grid_E_LJ_matrix))\n",
    "    print(\"Minimum LJ value: \", np.min(grid_E_LJ_matrix))\n",
    "\n",
    "    plt.figure(num=num,figsize=(6,6))\n",
    "    plt.title(\"z-axis = %.2f\"%(z))\n",
    "    \n",
    "    plt.imshow(grid_E_LJ_matrix, interpolation='gaussian',extent=(x_grid[0],x_grid[-1],y_grid[0],y_grid[-1]), origin='lower',\n",
    "              vmin=-2, vmax=2, cmap='coolwarm')\n",
    "    \n",
    "    cbar = plt.colorbar()\n",
    "    \n",
    "    plt.ylabel(\"y coord\")\n",
    "    plt.xlabel(\"x coord\")"
   ]
  },
  {
   "cell_type": "code",
   "execution_count": null,
   "id": "d6619b60-f61e-4745-9e61-764317f7a0f3",
   "metadata": {},
   "outputs": [],
   "source": []
  }
 ],
 "metadata": {
  "kernelspec": {
   "display_name": "Python 3 (ipykernel)",
   "language": "python",
   "name": "python3"
  },
  "language_info": {
   "codemirror_mode": {
    "name": "ipython",
    "version": 3
   },
   "file_extension": ".py",
   "mimetype": "text/x-python",
   "name": "python",
   "nbconvert_exporter": "python",
   "pygments_lexer": "ipython3",
   "version": "3.11.8"
  }
 },
 "nbformat": 4,
 "nbformat_minor": 5
}
