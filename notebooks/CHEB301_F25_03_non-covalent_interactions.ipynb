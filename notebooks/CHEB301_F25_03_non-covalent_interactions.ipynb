{
 "cells": [
  {
   "cell_type": "markdown",
   "id": "9ddd52da-b132-46cb-a8da-9fae324f305b",
   "metadata": {},
   "source": [
    "[Link to colab](https://colab.research.google.com/github/lsmin0152/cheb301/blob/main/notebooks/CHEB301_F25_03_non-covalent_interactions.ipynb)\n",
    "# Calculating non-covalent interaction\n",
    "\n",
    "Calculating energy from non-covalent bonds is critical to evaluate energy of overall system. \n",
    "In this class, we will write a code that calculate potential energy landsacpe around a 2D molecule. \n"
   ]
  },
  {
   "cell_type": "code",
   "execution_count": null,
   "id": "192dbf4c-2e78-437c-89a7-4608d6e11769",
   "metadata": {},
   "outputs": [],
   "source": [
    "## Setting \n",
    "\n",
    "import numpy as np\n",
    "import matplotlib.pyplot as plt\n",
    "\n",
    "coords = [[0,0],[1,0],[-1,0],[0,1],[0,-1]]\n",
    "coords = np.array(coords)\n",
    "\n",
    "plt.figure(figsize=(4,4))\n",
    "plt.plot(coords[:,0],coords[:,1],'o',color='black')\n",
    "\n",
    "plt.ylim(-4,4)\n",
    "plt.xlim(-4,4)\n",
    "plt.ylabel('y coord')\n",
    "plt.xlabel('x coord')\n"
   ]
  },
  {
   "cell_type": "code",
   "execution_count": null,
   "id": "56bfa723-faa3-4bdc-8036-d8f2f032a700",
   "metadata": {},
   "outputs": [],
   "source": [
    "import math\n",
    "\n",
    "def calDist(v1,v2):\n",
    "    if len(v1) == 3:\n",
    "        dist = math.sqrt((v2[0]-v1[0])**2 + (v2[1]-v1[1])**2 + (v2[2]-v1[2])**2)\n",
    "    elif len(v1) == 2:\n",
    "        dist = math.sqrt((v2[0]-v1[0])**2 + (v2[1]-v1[1])**2)\n",
    "    return dist\n",
    "\n",
    "\n",
    "def LJ(v1, v2, epsilon, sigma):\n",
    "    r = calDist(v1,v2)\n",
    "    E = 4*epsilon*((sigma/r)**12 - (sigma/r)**6)\n",
    "    return E\n",
    "\n",
    "grid_num = 100\n",
    "x_grid = np.linspace(-4,4,grid_num)\n",
    "y_grid = np.linspace(-4,4,grid_num)\n",
    "\n",
    "e_LJ = 1.0\n",
    "s_LJ = 1.0\n",
    "\n",
    "grid_E_LJ = []\n",
    "\n",
    "for x in x_grid:\n",
    "    for y in y_grid:\n",
    "        grid_coord = [x,y]\n",
    "        E_1 = LJ(grid_coord, coords[0], e_LJ, s_LJ)\n",
    "        E_2 = LJ(grid_coord, coords[1], e_LJ, s_LJ)\n",
    "        E_3 = LJ(grid_coord, coords[2], e_LJ, s_LJ)\n",
    "        E_4 = LJ(grid_coord, coords[3], e_LJ, s_LJ)\n",
    "        E_5 = LJ(grid_coord, coords[4], e_LJ, s_LJ)\n",
    "        E_total = E_1 + E_2 + E_3 + E_4 + E_5\n",
    "        grid_E_LJ.append([x,y,E_total])\n",
    "\n",
    "grid_E_LJ = np.array(grid_E_LJ)\n",
    "print(grid_E_LJ[:3]) # Check first three lines\n",
    "\n",
    "## Format of grid_E_LJ:\n",
    "## [x1, y1, E1],\n",
    "## [x1, y2, E1],\n",
    "## [x1, y3, E1], ...\n",
    "\n",
    "grid_E_LJ_matrix = []\n",
    "for i in range(grid_num):\n",
    "    grid_E_LJ_matrix.append(grid_E_LJ[i*grid_num:(i+1)*grid_num][:,2]) \n",
    "grid_E_LJ_matrix = np.array(grid_E_LJ_matrix)\n",
    "\n",
    "print(grid_E_LJ_matrix[:3]) # Check first three lines\n",
    "\n",
    "print(\"Maximum LJ value: \", np.max(grid_E_LJ_matrix))\n",
    "print(\"Minimum LJ value: \", np.min(grid_E_LJ_matrix))\n"
   ]
  },
  {
   "cell_type": "code",
   "execution_count": null,
   "id": "545fce02-2752-467e-9d08-3b6f644d9a66",
   "metadata": {},
   "outputs": [],
   "source": [
    "plt.figure(num=2,figsize=(6,6))\n",
    "\n",
    "plt.imshow(grid_E_LJ_matrix, interpolation='gaussian',extent=(x_grid[0],x_grid[-1],y_grid[0],y_grid[-1]), origin='lower',\n",
    "          vmin=-2, vmax=2, cmap='coolwarm')\n",
    "\n",
    "cbar = plt.colorbar()\n",
    "\n",
    "plt.ylabel(\"y coord\")\n",
    "plt.xlabel(\"x coord\")"
   ]
  },
  {
   "cell_type": "code",
   "execution_count": null,
   "id": "1bdc30ab-1496-4aa3-ab31-56c78e8beae4",
   "metadata": {},
   "outputs": [],
   "source": []
  }
 ],
 "metadata": {
  "kernelspec": {
   "display_name": "Python 3 (ipykernel)",
   "language": "python",
   "name": "python3"
  },
  "language_info": {
   "codemirror_mode": {
    "name": "ipython",
    "version": 3
   },
   "file_extension": ".py",
   "mimetype": "text/x-python",
   "name": "python",
   "nbconvert_exporter": "python",
   "pygments_lexer": "ipython3",
   "version": "3.11.8"
  }
 },
 "nbformat": 4,
 "nbformat_minor": 5
}
