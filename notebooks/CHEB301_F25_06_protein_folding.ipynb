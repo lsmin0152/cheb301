{
 "cells": [
  {
   "cell_type": "markdown",
   "metadata": {
    "id": "tfuln7YkUbpw"
   },
   "source": [
    "# **Basic Folding Algorithm using PyRosetta**\n",
    "\n",
    "Reference: https://rosettacommons.github.io/PyRosetta.notebooks/"
   ]
  },
  {
   "cell_type": "code",
   "execution_count": null,
   "metadata": {
    "colab": {
     "base_uri": "https://localhost:8080/"
    },
    "id": "OZYuPP6uUHQh",
    "outputId": "d80e4e4b-47fb-4c4c-b107-b0a7079ff336"
   },
   "outputs": [],
   "source": [
    "# Install pyrosetta. This will take few minutes\n",
    "# You need to log in with your Google account.\n",
    "# You need to allow access to your google drive, to run this script.\n",
    "\n",
    "!pip install pyrosettacolabsetup\n",
    "import pyrosettacolabsetup; pyrosettacolabsetup.install_pyrosetta()\n",
    "import pyrosetta; pyrosetta.init()\n",
    "from pyrosetta import *\n",
    "from pyrosetta.teaching import *\n",
    "init()"
   ]
  },
  {
   "cell_type": "code",
   "execution_count": null,
   "metadata": {
    "colab": {
     "base_uri": "https://localhost:8080/",
     "height": 104
    },
    "id": "kaRFCbcmUlkO",
    "outputId": "f7236131-08a3-4cb5-9778-25a77b139a81"
   },
   "outputs": [],
   "source": [
    "### Create a initial pose\n",
    "polyA = pyrosetta.pose_from_sequence('A' * 10)\n",
    "polyA.pdb_info().name(\"polyA\")\n",
    "\n",
    "print(\"phi: %i\" %polyA.phi(9))\n",
    "print(\"psi: %i\" %polyA.psi(9))\n",
    "\n",
    "polyA.sequence()\n"
   ]
  },
  {
   "cell_type": "markdown",
   "metadata": {
    "id": "BQwjREtrWv9i"
   },
   "source": [
    "# Step 1: Random Move\n",
    "\n",
    "For the random trial move, write a subroutine to choose one residue at random using random.randint() and then randomly perturb either the φ or ψ angles by a random number chosen from a Gaussian distribution. Use the Python built-in function random.gauss() from the random library with a mean of the current angle and a standard deviation for a given amount. After changing the torsion angle, use pmm.apply(polyA) to update the structure in PyMOL."
   ]
  },
  {
   "cell_type": "code",
   "execution_count": null,
   "metadata": {
    "id": "Ro17DWyZVSUt"
   },
   "outputs": [],
   "source": [
    "import math\n",
    "import random\n",
    "\n",
    "def randTrial(your_pose, move_size):\n",
    "    randNum = random.randint(2, your_pose.total_residue()) # Picking up a random residue index\n",
    "    currPhi = your_pose.phi(randNum)\n",
    "    currPsi = your_pose.psi(randNum)\n",
    "    newPhi = random.gauss(currPhi, move_size)\n",
    "    newPsi = random.gauss(currPsi, move_size)\n",
    "    your_pose.set_phi(randNum,newPhi)\n",
    "    your_pose.set_psi(randNum,newPsi)\n",
    "    return your_pose"
   ]
  },
  {
   "cell_type": "markdown",
   "metadata": {
    "id": "ZPQUkS2kXTEg"
   },
   "source": [
    "# Step 2: Scoring Move\n",
    "For the scoring step, we need to create a scoring function and make a subroutine that simply returns the numerical energy score of the pose."
   ]
  },
  {
   "cell_type": "code",
   "execution_count": null,
   "metadata": {
    "colab": {
     "base_uri": "https://localhost:8080/"
    },
    "id": "cDYjRYuhXSQh",
    "outputId": "bb5a4239-89d9-495b-e265-2965b31d7328"
   },
   "outputs": [],
   "source": [
    "sfxn = get_fa_scorefxn()\n",
    "\n",
    "def score(your_pose):\n",
    "    return sfxn(your_pose)"
   ]
  },
  {
   "cell_type": "markdown",
   "metadata": {
    "id": "QaRipUqvXduB"
   },
   "source": [
    "# Step 3: Accepting/Rejecting Move\n",
    "For the decision step, we need to make a subroutine that either accepts or rejects the new conformatuon based on the Metropolis criterion. The Metropolis criterion has a probability of accepting a move as  𝑃=exp(−Δ𝐺/𝑘𝑇) . When  Δ𝐸≥0 , the Metropolis criterion probability of accepting the move is  𝑃=exp(−Δ𝐺/𝑘𝑇) . When  Δ𝐸<0 , the Metropolis criterion probability of accepting the move is  𝑃=1 . Use  𝑘𝑇 in  Rosetta Energy Unit (REU)."
   ]
  },
  {
   "cell_type": "code",
   "execution_count": null,
   "metadata": {
    "id": "DDAVWXqpXbp_"
   },
   "outputs": [],
   "source": [
    "def decision(before_pose, after_pose):\n",
    "    E = score(after_pose) - score(before_pose)\n",
    "    kT = 0.4\n",
    "    if E < 0:\n",
    "        return after_pose\n",
    "    elif random.uniform(0, 1) >= math.exp(-E/kT):\n",
    "        return before_pose\n",
    "    else:\n",
    "        return after_pose"
   ]
  },
  {
   "cell_type": "markdown",
   "metadata": {
    "id": "k9GjZUDvXo51"
   },
   "source": [
    "# Step 4: Execution\n",
    "Now we can put these three subroutines together in our main program! Write a loop in the main program so that it performs iterations of: making a random trial move, scoring the protein, and accepting/rejecting the move.\n",
    "\n",
    "After each iteration of the search, output the current pose and energy."
   ]
  },
  {
   "cell_type": "code",
   "execution_count": null,
   "metadata": {
    "colab": {
     "base_uri": "https://localhost:8080/"
    },
    "id": "ANfczxi-Xm_G",
    "outputId": "eeceda6b-2df5-466e-8710-a5bb14e9641e"
   },
   "outputs": [],
   "source": [
    "import os\n",
    "from google.colab import drive\n",
    "\n",
    "# Mount Google Drive\n",
    "drive.mount('/content/drive')\n",
    "\n",
    "# Create a folder in the root directory to save pdbs\n",
    "!mkdir -p \"/content/drive/MyDrive/colab_folding/\"\n",
    "\n",
    "### BEGIN MC folding\n",
    "your_pose = Pose() # Create an empty pose\n",
    "your_pose.assign(polyA)\n",
    "\n",
    "lowest_pose = Pose()\n",
    "\n",
    "score_total = []\n",
    "for i in range(100000):\n",
    "\n",
    "    before_pose = Pose()\n",
    "    before_pose.assign(your_pose) # keep track of pose before random move\n",
    "    after_pose = Pose()\n",
    "\n",
    "    if score(your_pose) > 5:\n",
    "      move_size = 30\n",
    "    elif score(your_pose) > 0:\n",
    "      move_size = 25\n",
    "    else:\n",
    "      move_size = 20\n",
    "\n",
    "    after_pose.assign(randTrial(your_pose, move_size)) # do random move and store the pose\n",
    "    your_pose.assign(decision(before_pose, after_pose)) # keep the new pose or old pose\n",
    "\n",
    "    if score(your_pose) < score(lowest_pose): # updating lowest pose\n",
    "      lowest_pose.assign(your_pose)\n",
    "\n",
    "    if i%1000 == 0:\n",
    "      print(\"Iteration # %i\" %i) # output\n",
    "      print(\"Current pose score: %1.3f\" %score(your_pose)) # output\n",
    "      your_pose.dump_pdb('/content/drive/My Drive/colab_folding/folding_%04d.pdb'%(i))\n",
    "    score_total.append(score(your_pose))\n",
    "\n",
    "lowest_pose.dump_pdb('/content/drive/My Drive/colab_folding/best_folding.pdb')\n"
   ]
  },
  {
   "cell_type": "code",
   "execution_count": null,
   "metadata": {
    "colab": {
     "base_uri": "https://localhost:8080/",
     "height": 473
    },
    "id": "L5HfLW_3aWBd",
    "outputId": "d03f05f2-7296-47e4-a66f-e78280807c40"
   },
   "outputs": [],
   "source": [
    "import matplotlib.pyplot as plt\n",
    "%matplotlib inline\n",
    "\n",
    "plt.plot(score_total)\n",
    "plt.ylabel('Score',fontsize=15)\n",
    "plt.xlabel('MC steps',fontsize=15)\n"
   ]
  },
  {
   "cell_type": "code",
   "execution_count": null,
   "metadata": {
    "id": "VdcgyLLdbEq4"
   },
   "outputs": [],
   "source": []
  }
 ],
 "metadata": {
  "colab": {
   "provenance": []
  },
  "kernelspec": {
   "display_name": "Python 3 (ipykernel)",
   "language": "python",
   "name": "python3"
  },
  "language_info": {
   "codemirror_mode": {
    "name": "ipython",
    "version": 3
   },
   "file_extension": ".py",
   "mimetype": "text/x-python",
   "name": "python",
   "nbconvert_exporter": "python",
   "pygments_lexer": "ipython3",
   "version": "3.11.8"
  }
 },
 "nbformat": 4,
 "nbformat_minor": 4
}
